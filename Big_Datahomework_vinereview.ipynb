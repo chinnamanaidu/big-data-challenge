{
  "nbformat": 4,
  "nbformat_minor": 0,
  "metadata": {
    "anaconda-cloud": {},
    "colab": {
      "name": "Big_Datahomework_vinereview.ipynb",
      "provenance": [],
      "collapsed_sections": []
    },
    "kernel_info": {
      "name": "python3"
    },
    "kernelspec": {
      "display_name": "Python 3",
      "language": "python",
      "name": "python3"
    },
    "language_info": {
      "codemirror_mode": {
        "name": "ipython",
        "version": 3
      },
      "file_extension": ".py",
      "mimetype": "text/x-python",
      "name": "python",
      "nbconvert_exporter": "python",
      "pygments_lexer": "ipython3",
      "version": "3.8.3"
    },
    "nteract": {
      "version": "0.11.2"
    },
    "varInspector": {
      "cols": {
        "lenName": 16,
        "lenType": 16,
        "lenVar": 40
      },
      "kernels_config": {
        "python": {
          "delete_cmd_postfix": "",
          "delete_cmd_prefix": "del ",
          "library": "var_list.py",
          "varRefreshCmd": "print(var_dic_list())"
        },
        "r": {
          "delete_cmd_postfix": ") ",
          "delete_cmd_prefix": "rm(",
          "library": "var_list.r",
          "varRefreshCmd": "cat(var_dic_list()) "
        }
      },
      "types_to_exclude": [
        "module",
        "function",
        "builtin_function_or_method",
        "instance",
        "_Feature"
      ],
      "window_display": false
    }
  },
  "cells": [
    {
      "cell_type": "code",
      "metadata": {
        "colab": {
          "base_uri": "https://localhost:8080/"
        },
        "id": "7kufI1HuEzk5",
        "outputId": "b0560792-9852-4c6d-e09a-f5663a237bd4"
      },
      "source": [
        "import os\n",
        "# Find the latest version of spark 2.0  from http://www-us.apache.org/dist/spark/ and enter as the spark version\n",
        "# For example:\n",
        "# spark_version = 'spark-2.4.6'\n",
        "spark_version = 'spark-3.0.1'\n",
        "os.environ['SPARK_VERSION']=spark_version\n",
        "\n",
        "# Install Spark and Java\n",
        "!apt-get update\n",
        "!apt-get install openjdk-8-jdk-headless -qq > /dev/null\n",
        "!wget -q http://www-us.apache.org/dist/spark/$SPARK_VERSION/$SPARK_VERSION-bin-hadoop2.7.tgz\n",
        "!tar xf $SPARK_VERSION-bin-hadoop2.7.tgz\n",
        "!pip install -q findspark\n",
        "\n",
        "# Set Environment Variables\n",
        "os.environ[\"JAVA_HOME\"] = \"/usr/lib/jvm/java-8-openjdk-amd64\"\n",
        "os.environ[\"SPARK_HOME\"] = f\"/content/{spark_version}-bin-hadoop2.7\"\n",
        "\n",
        "# Start a SparkSession\n",
        "import findspark\n",
        "findspark.init()"
      ],
      "execution_count": 1,
      "outputs": [
        {
          "output_type": "stream",
          "text": [
            "Get:1 https://cloud.r-project.org/bin/linux/ubuntu bionic-cran40/ InRelease [3,626 B]\n",
            "Ign:2 https://developer.download.nvidia.com/compute/cuda/repos/ubuntu1804/x86_64  InRelease\n",
            "Get:3 https://cloud.r-project.org/bin/linux/ubuntu bionic-cran40/ Packages [45.4 kB]\n",
            "Ign:4 https://developer.download.nvidia.com/compute/machine-learning/repos/ubuntu1804/x86_64  InRelease\n",
            "Hit:5 https://developer.download.nvidia.com/compute/cuda/repos/ubuntu1804/x86_64  Release\n",
            "Hit:6 https://developer.download.nvidia.com/compute/machine-learning/repos/ubuntu1804/x86_64  Release\n",
            "Hit:7 http://archive.ubuntu.com/ubuntu bionic InRelease\n",
            "Get:8 http://security.ubuntu.com/ubuntu bionic-security InRelease [88.7 kB]\n",
            "Get:9 http://ppa.launchpad.net/c2d4u.team/c2d4u4.0+/ubuntu bionic InRelease [15.9 kB]\n",
            "Get:11 http://archive.ubuntu.com/ubuntu bionic-updates InRelease [88.7 kB]\n",
            "Hit:13 http://ppa.launchpad.net/cran/libgit2/ubuntu bionic InRelease\n",
            "Get:14 http://archive.ubuntu.com/ubuntu bionic-backports InRelease [74.6 kB]\n",
            "Get:15 http://security.ubuntu.com/ubuntu bionic-security/main amd64 Packages [1,929 kB]\n",
            "Hit:16 http://ppa.launchpad.net/graphics-drivers/ppa/ubuntu bionic InRelease\n",
            "Get:17 http://archive.ubuntu.com/ubuntu bionic-updates/main amd64 Packages [2,360 kB]\n",
            "Get:18 http://ppa.launchpad.net/c2d4u.team/c2d4u4.0+/ubuntu bionic/main Sources [1,732 kB]\n",
            "Get:19 http://security.ubuntu.com/ubuntu bionic-security/universe amd64 Packages [1,391 kB]\n",
            "Get:20 http://archive.ubuntu.com/ubuntu bionic-updates/universe amd64 Packages [2,162 kB]\n",
            "Get:21 http://ppa.launchpad.net/c2d4u.team/c2d4u4.0+/ubuntu bionic/main amd64 Packages [886 kB]\n",
            "Fetched 10.8 MB in 6s (1,833 kB/s)\n",
            "Reading package lists... Done\n"
          ],
          "name": "stdout"
        }
      ]
    },
    {
      "cell_type": "markdown",
      "metadata": {
        "id": "vP_CxzkAMbyT"
      },
      "source": [
        "**This is to remove the previosu jar file downloaded during the wget command the jar file used for the postgres SQL**"
      ]
    },
    {
      "cell_type": "code",
      "metadata": {
        "colab": {
          "base_uri": "https://localhost:8080/"
        },
        "id": "KJNfXK8n5OT7",
        "outputId": "37af72ba-e2a9-4e8a-9965-a7f70e1b4b22"
      },
      "source": [
        "!rm \"/content/postgresql-42.2.9.jar\"\r\n",
        "!rm \"/content/postgresql-42.2.9.jar.1\"\r\n",
        "!rm \"/content/postgresql-42.2.9.jar.2\""
      ],
      "execution_count": 2,
      "outputs": [
        {
          "output_type": "stream",
          "text": [
            "rm: cannot remove '/content/postgresql-42.2.9.jar': No such file or directory\n",
            "rm: cannot remove '/content/postgresql-42.2.9.jar.1': No such file or directory\n",
            "rm: cannot remove '/content/postgresql-42.2.9.jar.2': No such file or directory\n"
          ],
          "name": "stdout"
        }
      ]
    },
    {
      "cell_type": "markdown",
      "metadata": {
        "id": "o254vZXYMi5Z"
      },
      "source": [
        "**This is wget to get the jar file and download in content directory**"
      ]
    },
    {
      "cell_type": "code",
      "metadata": {
        "colab": {
          "base_uri": "https://localhost:8080/"
        },
        "id": "VGUjyZdYGHYS",
        "outputId": "6bfdea66-fcc3-4f30-cb91-aca561bf72fc"
      },
      "source": [
        "!wget https://jdbc.postgresql.org/download/postgresql-42.2.9.jar"
      ],
      "execution_count": 3,
      "outputs": [
        {
          "output_type": "stream",
          "text": [
            "--2021-02-15 20:18:49--  https://jdbc.postgresql.org/download/postgresql-42.2.9.jar\n",
            "Resolving jdbc.postgresql.org (jdbc.postgresql.org)... 72.32.157.228, 2001:4800:3e1:1::228\n",
            "Connecting to jdbc.postgresql.org (jdbc.postgresql.org)|72.32.157.228|:443... connected.\n",
            "HTTP request sent, awaiting response... 200 OK\n",
            "Length: 914037 (893K) [application/java-archive]\n",
            "Saving to: ‘postgresql-42.2.9.jar’\n",
            "\n",
            "postgresql-42.2.9.j 100%[===================>] 892.61K  1.30MB/s    in 0.7s    \n",
            "\n",
            "2021-02-15 20:18:51 (1.30 MB/s) - ‘postgresql-42.2.9.jar’ saved [914037/914037]\n",
            "\n"
          ],
          "name": "stdout"
        }
      ]
    },
    {
      "cell_type": "markdown",
      "metadata": {
        "id": "oS4JdoEwMotv"
      },
      "source": [
        "**Py Spark initializing and configuring the postgres jar file for startup**"
      ]
    },
    {
      "cell_type": "code",
      "metadata": {
        "id": "7T4_WJUeS08b"
      },
      "source": [
        "\r\n",
        "from pyspark.sql import SparkSession\r\n",
        "spark = SparkSession.builder.appName(\"CloudETL\").config(\"spark.driver.extraClassPath\",\"/content/postgresql-42.2.9.jar\").getOrCreate()"
      ],
      "execution_count": 4,
      "outputs": []
    },
    {
      "cell_type": "markdown",
      "metadata": {
        "id": "tjzvrbL3Oalf"
      },
      "source": [
        "**Loading the file from Amazon website as GZ format and uncompresses it for processing**"
      ]
    },
    {
      "cell_type": "code",
      "metadata": {
        "colab": {
          "base_uri": "https://localhost:8080/"
        },
        "id": "6CdXs43NC-oE",
        "outputId": "6dc2fbd8-ef13-466a-d92e-039453b97331"
      },
      "source": [
        "# Load in data\n",
        "from pyspark import SparkFiles\n",
        "url =\"https://s3.amazonaws.com/amazon-reviews-pds/tsv/amazon_reviews_us_Wireless_v1_00.tsv.gz\"\n",
        "spark.sparkContext.addFile(url)\n",
        "df = spark.read.csv(SparkFiles.get(\"amazon_reviews_us_Wireless_v1_00.tsv.gz\"), sep=\"\\t\", header=True, inferSchema=True, timestampFormat=\"yyyy/MM/dd HH:mm:ss\")\n",
        "df.show()"
      ],
      "execution_count": 5,
      "outputs": [
        {
          "output_type": "stream",
          "text": [
            "+-----------+-----------+--------------+----------+--------------+--------------------+----------------+-----------+-------------+-----------+----+-----------------+--------------------+--------------------+-----------+\n",
            "|marketplace|customer_id|     review_id|product_id|product_parent|       product_title|product_category|star_rating|helpful_votes|total_votes|vine|verified_purchase|     review_headline|         review_body|review_date|\n",
            "+-----------+-----------+--------------+----------+--------------+--------------------+----------------+-----------+-------------+-----------+----+-----------------+--------------------+--------------------+-----------+\n",
            "|         US|   16414143|R3W4P9UBGNGH1U|B00YL0EKWE|     852431543|LG G4 Case Hard T...|        Wireless|          2|            1|          3|   N|                Y|Looks good, funct...|2 issues  -  Once...| 2015-08-31|\n",
            "|         US|   50800750|R15V54KBMTQWAY|B00XK95RPQ|     516894650|Selfie Stick Fibl...|        Wireless|          4|            0|          0|   N|                N| A fun little gadget|I’m embarrassed t...| 2015-08-31|\n",
            "|         US|   15184378| RY8I449HNXSVF|B00SXRXUKO|     984297154|Tribe AB40 Water ...|        Wireless|          5|            0|          0|   N|                Y|          Five Stars|  Fits iPhone 6 well| 2015-08-31|\n",
            "|         US|   10203548|R18TLJYCKJFLSR|B009V5X1CE|     279912704|RAVPower® Element...|        Wireless|          5|            0|          0|   N|                Y|       Great charger|Great charger.  I...| 2015-08-31|\n",
            "|         US|     488280|R1NK26SWS53B8Q|B00D93OVF0|     662791300|Fosmon Micro USB ...|        Wireless|          5|            0|          0|   N|                Y|          Five Stars|Great for the pri...| 2015-08-31|\n",
            "|         US|   13334021|R11LOHEDYJALTN|B00XVGJMDQ|     421688488|iPhone 6 Case, Vo...|        Wireless|          5|            0|          0|   N|                Y|          Five Stars|Great Case, bette...| 2015-08-31|\n",
            "|         US|   27520697|R3ALQVQB2P9LA7|B00KQW1X1C|     554285554|Nokia Lumia 630 R...|        Wireless|          4|            0|          0|   N|                Y|          Four Stars|Easy to set up an...| 2015-08-31|\n",
            "|         US|   48086021|R3MWLXLNO21PDQ|B00IP1MQNK|     488006702|Lumsing 10400mah ...|        Wireless|          5|            0|          0|   N|                Y|          Five Stars|         Works great| 2015-08-31|\n",
            "|         US|   12738196|R2L15IS24CX0LI|B00HVORET8|     389677711|iPhone 5S Battery...|        Wireless|          5|            0|          0|   N|                Y|      So far so good|So far so good. I...| 2015-08-31|\n",
            "|         US|   15867807|R1DJ8976WPWVZU|B00HX3G6J6|     299654876|HTC One M8 Screen...|        Wireless|          3|            0|          0|   N|                Y|seems durable but...|seems durable but...| 2015-08-31|\n",
            "|         US|    1972249|R3MRWNNR8CBTB7|B00U4NATNQ|     577878727|S6 Case - Bear Mo...|        Wireless|          5|            0|          0|   N|                Y|Super thin, light...|Super thin, light...| 2015-08-31|\n",
            "|         US|   10956619|R1DS6DKTUXAQK3|B00SZEFDH8|     654620704|BLU Studio X, Unl...|        Wireless|          5|            0|          0|   N|                Y|          Five Stars|As good as the Sa...| 2015-08-31|\n",
            "|         US|   14805911| RWJM5E0TWUJD2|B00JRJUL9U|     391166958|EZOPower 5-Port U...|        Wireless|          5|            0|          0|   N|                Y|            EZOPower|I received this o...| 2015-08-31|\n",
            "|         US|   15611116|R1XTJKDYNCRGAC|B00KQ4T0HE|     481551630|iPhone 6S Case &i...|        Wireless|          1|            0|          0|   N|                Y|Very cheap case. ...|Very cheap case. ...| 2015-08-31|\n",
            "|         US|   39298603|R2UZL3DPWEU1XW|B00M0YWKPM|     685107474| iPhone 6s Plus Case|        Wireless|          5|            0|          0|   N|                Y|          Five Stars|       son loves it.| 2015-08-31|\n",
            "|         US|   17552454|R2EZXET9KBFFU3|B00KDZEE68|     148320945|zBoost ZB575-A TR...|        Wireless|          1|            0|          0|   N|                Y|            One Star|you have to turn ...| 2015-08-31|\n",
            "|         US|   12218556|R26VY1L1FD3LPU|B00BJN45GM|      47788188|OtterBox Defender...|        Wireless|          5|            0|          0|   N|                Y|          Five Stars|  Awesome, thank you| 2015-08-31|\n",
            "|         US|   21872923|R2SSA4NSFCV18T|B00SA86SXW|     748759272|Aduro PowerUP 30W...|        Wireless|          5|            0|          0|   N|                N|          Five Stars|         nice, smart| 2015-08-31|\n",
            "|         US|   16264332|R1G6333JHJNEUQ|B00Q3I68TU|     974085141|LilGadgets Connec...|        Wireless|          5|            0|          0|   N|                Y|Great headphones ...|We love these hea...| 2015-08-31|\n",
            "|         US|    6042304|R2DRG0UZXJQ0PE|B00TN4J1TA|     716174627|Anker Aluminum Mu...|        Wireless|          5|            0|          0|   N|                Y|          Five Stars|This is well wort...| 2015-08-31|\n",
            "+-----------+-----------+--------------+----------+--------------+--------------------+----------------+-----------+-------------+-----------+----+-----------------+--------------------+--------------------+-----------+\n",
            "only showing top 20 rows\n",
            "\n"
          ],
          "name": "stdout"
        }
      ]
    },
    {
      "cell_type": "code",
      "metadata": {
        "colab": {
          "base_uri": "https://localhost:8080/"
        },
        "id": "Yx9dtp2wJP7T",
        "outputId": "b9fe8745-bd5e-4877-8d22-4f1f697c8a6b"
      },
      "source": [
        "  df = df.dropna()\r\n",
        "  df.show()"
      ],
      "execution_count": 6,
      "outputs": [
        {
          "output_type": "stream",
          "text": [
            "+-----------+-----------+--------------+----------+--------------+--------------------+----------------+-----------+-------------+-----------+----+-----------------+--------------------+--------------------+-----------+\n",
            "|marketplace|customer_id|     review_id|product_id|product_parent|       product_title|product_category|star_rating|helpful_votes|total_votes|vine|verified_purchase|     review_headline|         review_body|review_date|\n",
            "+-----------+-----------+--------------+----------+--------------+--------------------+----------------+-----------+-------------+-----------+----+-----------------+--------------------+--------------------+-----------+\n",
            "|         US|   16414143|R3W4P9UBGNGH1U|B00YL0EKWE|     852431543|LG G4 Case Hard T...|        Wireless|          2|            1|          3|   N|                Y|Looks good, funct...|2 issues  -  Once...| 2015-08-31|\n",
            "|         US|   50800750|R15V54KBMTQWAY|B00XK95RPQ|     516894650|Selfie Stick Fibl...|        Wireless|          4|            0|          0|   N|                N| A fun little gadget|I’m embarrassed t...| 2015-08-31|\n",
            "|         US|   15184378| RY8I449HNXSVF|B00SXRXUKO|     984297154|Tribe AB40 Water ...|        Wireless|          5|            0|          0|   N|                Y|          Five Stars|  Fits iPhone 6 well| 2015-08-31|\n",
            "|         US|   10203548|R18TLJYCKJFLSR|B009V5X1CE|     279912704|RAVPower® Element...|        Wireless|          5|            0|          0|   N|                Y|       Great charger|Great charger.  I...| 2015-08-31|\n",
            "|         US|     488280|R1NK26SWS53B8Q|B00D93OVF0|     662791300|Fosmon Micro USB ...|        Wireless|          5|            0|          0|   N|                Y|          Five Stars|Great for the pri...| 2015-08-31|\n",
            "|         US|   13334021|R11LOHEDYJALTN|B00XVGJMDQ|     421688488|iPhone 6 Case, Vo...|        Wireless|          5|            0|          0|   N|                Y|          Five Stars|Great Case, bette...| 2015-08-31|\n",
            "|         US|   27520697|R3ALQVQB2P9LA7|B00KQW1X1C|     554285554|Nokia Lumia 630 R...|        Wireless|          4|            0|          0|   N|                Y|          Four Stars|Easy to set up an...| 2015-08-31|\n",
            "|         US|   48086021|R3MWLXLNO21PDQ|B00IP1MQNK|     488006702|Lumsing 10400mah ...|        Wireless|          5|            0|          0|   N|                Y|          Five Stars|         Works great| 2015-08-31|\n",
            "|         US|   12738196|R2L15IS24CX0LI|B00HVORET8|     389677711|iPhone 5S Battery...|        Wireless|          5|            0|          0|   N|                Y|      So far so good|So far so good. I...| 2015-08-31|\n",
            "|         US|   15867807|R1DJ8976WPWVZU|B00HX3G6J6|     299654876|HTC One M8 Screen...|        Wireless|          3|            0|          0|   N|                Y|seems durable but...|seems durable but...| 2015-08-31|\n",
            "|         US|    1972249|R3MRWNNR8CBTB7|B00U4NATNQ|     577878727|S6 Case - Bear Mo...|        Wireless|          5|            0|          0|   N|                Y|Super thin, light...|Super thin, light...| 2015-08-31|\n",
            "|         US|   10956619|R1DS6DKTUXAQK3|B00SZEFDH8|     654620704|BLU Studio X, Unl...|        Wireless|          5|            0|          0|   N|                Y|          Five Stars|As good as the Sa...| 2015-08-31|\n",
            "|         US|   14805911| RWJM5E0TWUJD2|B00JRJUL9U|     391166958|EZOPower 5-Port U...|        Wireless|          5|            0|          0|   N|                Y|            EZOPower|I received this o...| 2015-08-31|\n",
            "|         US|   15611116|R1XTJKDYNCRGAC|B00KQ4T0HE|     481551630|iPhone 6S Case &i...|        Wireless|          1|            0|          0|   N|                Y|Very cheap case. ...|Very cheap case. ...| 2015-08-31|\n",
            "|         US|   39298603|R2UZL3DPWEU1XW|B00M0YWKPM|     685107474| iPhone 6s Plus Case|        Wireless|          5|            0|          0|   N|                Y|          Five Stars|       son loves it.| 2015-08-31|\n",
            "|         US|   17552454|R2EZXET9KBFFU3|B00KDZEE68|     148320945|zBoost ZB575-A TR...|        Wireless|          1|            0|          0|   N|                Y|            One Star|you have to turn ...| 2015-08-31|\n",
            "|         US|   12218556|R26VY1L1FD3LPU|B00BJN45GM|      47788188|OtterBox Defender...|        Wireless|          5|            0|          0|   N|                Y|          Five Stars|  Awesome, thank you| 2015-08-31|\n",
            "|         US|   21872923|R2SSA4NSFCV18T|B00SA86SXW|     748759272|Aduro PowerUP 30W...|        Wireless|          5|            0|          0|   N|                N|          Five Stars|         nice, smart| 2015-08-31|\n",
            "|         US|   16264332|R1G6333JHJNEUQ|B00Q3I68TU|     974085141|LilGadgets Connec...|        Wireless|          5|            0|          0|   N|                Y|Great headphones ...|We love these hea...| 2015-08-31|\n",
            "|         US|    6042304|R2DRG0UZXJQ0PE|B00TN4J1TA|     716174627|Anker Aluminum Mu...|        Wireless|          5|            0|          0|   N|                Y|          Five Stars|This is well wort...| 2015-08-31|\n",
            "+-----------+-----------+--------------+----------+--------------+--------------------+----------------+-----------+-------------+-----------+----+-----------------+--------------------+--------------------+-----------+\n",
            "only showing top 20 rows\n",
            "\n"
          ],
          "name": "stdout"
        }
      ]
    },
    {
      "cell_type": "markdown",
      "metadata": {
        "id": "OSDSJhrUOhV0"
      },
      "source": [
        "**The Review table updated, data extracted from main data frame for review id, customer id and will be used to update the DB table**"
      ]
    },
    {
      "cell_type": "code",
      "metadata": {
        "colab": {
          "base_uri": "https://localhost:8080/"
        },
        "id": "6BugjF4tOiw0",
        "outputId": "f05c9bb7-2905-4f34-c2b4-c553044ba184"
      },
      "source": [
        "vine_info = df.select([\"review_id\", \"star_rating\", \"helpful_votes\", \"total_votes\", \"vine\"]).limit(10000)\r\n",
        "vine_info.show(5)"
      ],
      "execution_count": 8,
      "outputs": [
        {
          "output_type": "stream",
          "text": [
            "+--------------+-----------+-------------+-----------+----+\n",
            "|     review_id|star_rating|helpful_votes|total_votes|vine|\n",
            "+--------------+-----------+-------------+-----------+----+\n",
            "|R3W4P9UBGNGH1U|          2|            1|          3|   N|\n",
            "|R15V54KBMTQWAY|          4|            0|          0|   N|\n",
            "| RY8I449HNXSVF|          5|            0|          0|   N|\n",
            "|R18TLJYCKJFLSR|          5|            0|          0|   N|\n",
            "|R1NK26SWS53B8Q|          5|            0|          0|   N|\n",
            "+--------------+-----------+-------------+-----------+----+\n",
            "only showing top 5 rows\n",
            "\n"
          ],
          "name": "stdout"
        }
      ]
    },
    {
      "cell_type": "markdown",
      "metadata": {
        "id": "n3lLoRMvOpO7"
      },
      "source": [
        "**The DB initialization, this is Heroku Postgres DB instance, DB created for BigData, there are limitations 10000 records per table**"
      ]
    },
    {
      "cell_type": "code",
      "metadata": {
        "id": "BzwBozsEPvsI"
      },
      "source": [
        "mode=\"append\"\r\n",
        "\r\n",
        "#rds_connection_string = \"postgres:admin@localhost:5432/final_project_stocks\"\r\n",
        "#jdbc_url = \"jdbc:postgresql://<insert endpoint>:5432/my_data_class_db\"\r\n",
        "jdbc_url = \"jdbc:postgresql://ec2-52-3-4-232.compute-1.amazonaws.com:5432/ddv6vu8jpdbjns\"\r\n",
        "config = {\"user\":\"slcslzlanikhqj\",\r\n",
        "          \"password\": \"b106eda2173b6ce2c35f34626fb87eafcfd0f52e9ce55f36d776827fef375f71\",\r\n",
        "          \"driver\":\"org.postgresql.Driver\"}\r\n",
        "        "
      ],
      "execution_count": 9,
      "outputs": []
    },
    {
      "cell_type": "markdown",
      "metadata": {
        "id": "c_ycmOwgOxwy"
      },
      "source": [
        "**The  Vine review data updated on the main vine in Heroku DB instance**\r\n",
        "\r\n",
        "\r\n"
      ]
    },
    {
      "cell_type": "code",
      "metadata": {
        "id": "a25_7X3hRF_u"
      },
      "source": [
        "vine_info.write.jdbc(url=jdbc_url, table='vine_table', mode=mode, properties=config)"
      ],
      "execution_count": 10,
      "outputs": []
    },
    {
      "cell_type": "markdown",
      "metadata": {
        "id": "vlchz69fYNiE"
      },
      "source": [
        "**This is for vine review taken full set of data from the data frame for analysis purposes**"
      ]
    },
    {
      "cell_type": "code",
      "metadata": {
        "colab": {
          "base_uri": "https://localhost:8080/"
        },
        "id": "8tvjeTvrYTRI",
        "outputId": "2e023705-9e63-4be1-fe00-51ae95a7aab6"
      },
      "source": [
        "vine_info_full_data = df.select([\"review_id\", \"star_rating\", \"helpful_votes\", \"total_votes\", \"vine\", \"review_date\"])\r\n",
        "vine_info_full_data.show()"
      ],
      "execution_count": 12,
      "outputs": [
        {
          "output_type": "stream",
          "text": [
            "+--------------+-----------+-------------+-----------+----+-----------+\n",
            "|     review_id|star_rating|helpful_votes|total_votes|vine|review_date|\n",
            "+--------------+-----------+-------------+-----------+----+-----------+\n",
            "|R3W4P9UBGNGH1U|          2|            1|          3|   N| 2015-08-31|\n",
            "|R15V54KBMTQWAY|          4|            0|          0|   N| 2015-08-31|\n",
            "| RY8I449HNXSVF|          5|            0|          0|   N| 2015-08-31|\n",
            "|R18TLJYCKJFLSR|          5|            0|          0|   N| 2015-08-31|\n",
            "|R1NK26SWS53B8Q|          5|            0|          0|   N| 2015-08-31|\n",
            "|R11LOHEDYJALTN|          5|            0|          0|   N| 2015-08-31|\n",
            "|R3ALQVQB2P9LA7|          4|            0|          0|   N| 2015-08-31|\n",
            "|R3MWLXLNO21PDQ|          5|            0|          0|   N| 2015-08-31|\n",
            "|R2L15IS24CX0LI|          5|            0|          0|   N| 2015-08-31|\n",
            "|R1DJ8976WPWVZU|          3|            0|          0|   N| 2015-08-31|\n",
            "|R3MRWNNR8CBTB7|          5|            0|          0|   N| 2015-08-31|\n",
            "|R1DS6DKTUXAQK3|          5|            0|          0|   N| 2015-08-31|\n",
            "| RWJM5E0TWUJD2|          5|            0|          0|   N| 2015-08-31|\n",
            "|R1XTJKDYNCRGAC|          1|            0|          0|   N| 2015-08-31|\n",
            "|R2UZL3DPWEU1XW|          5|            0|          0|   N| 2015-08-31|\n",
            "|R2EZXET9KBFFU3|          1|            0|          0|   N| 2015-08-31|\n",
            "|R26VY1L1FD3LPU|          5|            0|          0|   N| 2015-08-31|\n",
            "|R2SSA4NSFCV18T|          5|            0|          0|   N| 2015-08-31|\n",
            "|R1G6333JHJNEUQ|          5|            0|          0|   N| 2015-08-31|\n",
            "|R2DRG0UZXJQ0PE|          5|            0|          0|   N| 2015-08-31|\n",
            "+--------------+-----------+-------------+-----------+----+-----------+\n",
            "only showing top 20 rows\n",
            "\n"
          ],
          "name": "stdout"
        }
      ]
    },
    {
      "cell_type": "markdown",
      "metadata": {
        "id": "L449taPiY8c6"
      },
      "source": [
        "**At what date the customer had more review**"
      ]
    },
    {
      "cell_type": "code",
      "metadata": {
        "colab": {
          "base_uri": "https://localhost:8080/"
        },
        "id": "qAgKmSmIZAHA",
        "outputId": "2f1d98d6-d7f4-4d35-c941-11a573fe977c"
      },
      "source": [
        "from pyspark.sql.functions import desc\r\n",
        "date_df = df.groupBy('review_date').agg({\"review_date\": \"count\"})\r\n",
        "date_df.orderBy(desc(\"count(review_date)\")).show()"
      ],
      "execution_count": 13,
      "outputs": [
        {
          "output_type": "stream",
          "text": [
            "+-----------+------------------+\n",
            "|review_date|count(review_date)|\n",
            "+-----------+------------------+\n",
            "| 2015-01-03|             18076|\n",
            "| 2015-06-03|             17804|\n",
            "| 2015-08-04|             17554|\n",
            "| 2015-01-07|             17484|\n",
            "| 2015-01-05|             17347|\n",
            "| 2015-08-18|             17027|\n",
            "| 2015-02-23|             16852|\n",
            "| 2015-02-18|             16723|\n",
            "| 2014-12-29|             16327|\n",
            "| 2015-01-09|             16192|\n",
            "| 2015-02-24|             16126|\n",
            "| 2015-02-11|             16091|\n",
            "| 2015-03-03|             16027|\n",
            "| 2015-02-19|             15929|\n",
            "| 2015-01-04|             15867|\n",
            "| 2015-02-04|             15794|\n",
            "| 2015-07-22|             15746|\n",
            "| 2015-02-17|             15697|\n",
            "| 2015-03-02|             15633|\n",
            "| 2015-01-12|             15542|\n",
            "+-----------+------------------+\n",
            "only showing top 20 rows\n",
            "\n"
          ],
          "name": "stdout"
        }
      ]
    },
    {
      "cell_type": "markdown",
      "metadata": {
        "id": "YvD4NBiGO5Q2"
      },
      "source": [
        "**What Product has fewer number of ratings**"
      ]
    },
    {
      "cell_type": "code",
      "metadata": {
        "colab": {
          "base_uri": "https://localhost:8080/"
        },
        "id": "jAQHsx4daWhg",
        "outputId": "82bc2a52-4368-4698-f7e3-955936f8463d"
      },
      "source": [
        "product_ratings_df = df.groupby(\"product_title\").agg({\"product_title\":\"count\"})\\\r\n",
        "\r\n",
        "product_ratings_df.orderBy(\"count(product_title)\").show(truncate=False)"
      ],
      "execution_count": 14,
      "outputs": [
        {
          "output_type": "stream",
          "text": [
            "+----------------------------------------------------------------------------------------------------------------------------------------------------------------------------------------------------------------------------------------------------------------------------------------------------------------------------------------------------------------------------------------------------------------+--------------------+\n",
            "|product_title                                                                                                                                                                                                                                                                                                                                                                                                   |count(product_title)|\n",
            "+----------------------------------------------------------------------------------------------------------------------------------------------------------------------------------------------------------------------------------------------------------------------------------------------------------------------------------------------------------------------------------------------------------------+--------------------+\n",
            "|Minnesota Computers iPhone 5 Snap on Design Case Cover Works with iPhone 5 / 5S (Sunrise / Sunflower)                                                                                                                                                                                                                                                                                                           |1                   |\n",
            "|Beyond Cell Samsung Galaxy S3 Mini i8190 Silicone Skin - Retail Packaging - Hot Pink                                                                                                                                                                                                                                                                                                                            |1                   |\n",
            "|Hot Tpye Green Bay Packers Case Cover For Iphone 6plus                                                                                                                                                                                                                                                                                                                                                          |1                   |\n",
            "|PLUS SIZE XL/XXL Large Oversize [Vertical Rugged ] Heavy Duty Nylon Canvas Case with Metal belt Clip Perfect Fits With Otterbox/ Lifeproof& Waterproof/Extended Battery For Huawei Ascend II M865                                                                                                                                                                                                               |1                   |\n",
            "|Trembling Zebra Premium Hard Full Diamond Bling Case Cover Protector for Nokia Lumia 635 (by AT&T , Metro PCS , T-Mobile) with Free Gift Reliable Accessory Pen                                                                                                                                                                                                                                                 |1                   |\n",
            "|Efanr&reg; LCD Wireless Bluetooth MP3 Player FM Transmitter Hands-free Car Kit Charger Battery Charging Dual USB Interface Support SD Card/TF/USB/AUX for Apple iPhone 6 Plus/6/5/5S/5C/4/4S, iPad Air 2/1, iPad 4/3/2, iPad Mini 3/2/1, Samsung Galaxy S6/S5/S4/S3/S5 Mini/S4 Mini, Galaxy Note 4/3/2/Edge, LG G3/G2, Nokia Lumia, Lenovo S8 S898T/A850, Sony Xperia Z3/Z2/Z1/Z1 Compact, Huawei G610/Ascend Ma|1                   |\n",
            "|Retractable Micro USB Data Cable (Black) for Kyocera cell phone                                                                                                                                                                                                                                                                                                                                                 |1                   |\n",
            "|HTC One M8 Case, Slim Fit Snap On Cover by Trek Chevron ZigZag Glitter Turquoise White Trans Case                                                                                                                                                                                                                                                                                                               |1                   |\n",
            "|Soul Eater, Plastic Cover Case For ipod Touch 5, ipod Touch 5 Generation Cases, Black / White                                                                                                                                                                                                                                                                                                                   |1                   |\n",
            "|New OEM Samsung ECC1DU2BBE High Speed Micro-USB Charge & Sync Data Cable 5 foot                                                                                                                                                                                                                                                                                                                                 |1                   |\n",
            "|CaseBee® - Cute Sleeping Panda Print iPhone 5S Case - Perfect Gift (Package includes Screen Protector)                                                                                                                                                                                                                                                                                                          |1                   |\n",
            "|Case88 Premium Designs My Neighbor Totoro 0666 Protective Snap-on Hard Back Case Cover for LG G4                                                                                                                                                                                                                                                                                                                |1                   |\n",
            "|Black Color 3.5mm Audio Earphone Headphones Headset Earbuds Volume Control With Microphone Hands Free For T-Mobile Samsung Galaxy Avant                                                                                                                                                                                                                                                                         |1                   |\n",
            "|CellTac iPhone 5 Case Bumper Frame TPU Case Cover Protector for iPhone 5 / 5S (Red)                                                                                                                                                                                                                                                                                                                             |1                   |\n",
            "|2D Green Zebra Stripes Print Snap-on on Black Skin KoolKase Rocker 2 in 1 Hybrid Case Cover For Apple iPhone 5c With 2 Screen Protector Films New in Retail Package                                                                                                                                                                                                                                             |1                   |\n",
            "|Customized Samsung Note 4 Cover Case Minnesota Vikings 24 Black Samsung Galaxy Note 4 N910A N910T N910P N910V N910R4 Protective Phone Case                                                                                                                                                                                                                                                                      |1                   |\n",
            "|Black Leather Sideways Case Pouch Holster with Belt Loop and Belt Clip For Motorola DROID Turbo/i365/i415                                                                                                                                                                                                                                                                                                       |1                   |\n",
            "|Mr Shield For BLU Life One 4G LTE 2015 Premium Clear Screen Protector [3-PACK] with Lifetime Replacement Warranty                                                                                                                                                                                                                                                                                               |1                   |\n",
            "|4s case,iphone 4s case, iphone 4 case, ARTMINE Vintage Eiffel Tower Premium PU Leather Flip Folio Book Style Wallet Protective Skin Pouch Phone Case & Magnetic Closure with Credit/ID Card Slot [Inner Silicone TPU Holder] [Kickstand Feature] [HD Screen Protector Gifted] for Apple iPhone 4s Verizon, AT&T, Sprint, T-Mobile                                                                               |1                   |\n",
            "|For Galaxy Note 10.1\" Tablet N8000 LCD Flex Cable - All Repair Parts USA Seller                                                                                                                                                                                                                                                                                                                                 |1                   |\n",
            "+----------------------------------------------------------------------------------------------------------------------------------------------------------------------------------------------------------------------------------------------------------------------------------------------------------------------------------------------------------------------------------------------------------------+--------------------+\n",
            "only showing top 20 rows\n",
            "\n"
          ],
          "name": "stdout"
        }
      ]
    },
    {
      "cell_type": "markdown",
      "metadata": {
        "id": "Bpik3vkKO_hb"
      },
      "source": [
        "**What is the most review products**"
      ]
    },
    {
      "cell_type": "code",
      "metadata": {
        "colab": {
          "base_uri": "https://localhost:8080/"
        },
        "id": "PfNKcFFMbMnf",
        "outputId": "923fc283-7982-4c2e-ce9a-2de3809a219f"
      },
      "source": [
        "from pyspark.sql.functions import desc\r\n",
        "product_ratings_df =df.select([\"product_title\",\"star_rating\"])\\\r\n",
        "  .groupby(\"product_title\")\\\r\n",
        "  .agg({\"star_rating\": \"avg\", \"product_title\":\"count\"})\r\n",
        "product_ratings_df.show(truncate=False)\r\n",
        "product_ratings_df.orderBy(desc(\"count(product_title)\")).show(truncate=False)"
      ],
      "execution_count": 15,
      "outputs": [
        {
          "output_type": "stream",
          "text": [
            "+-------------------------------------------------------------------------------------------------------------------------------------------------------------------------------------------------+------------------+--------------------+\n",
            "|product_title                                                                                                                                                                                    |avg(star_rating)  |count(product_title)|\n",
            "+-------------------------------------------------------------------------------------------------------------------------------------------------------------------------------------------------+------------------+--------------------+\n",
            "|Evocel Lumia 640 [Dual Layer Series] Hybrid Armor Protector Case For Microsoft Lumia 640 - Retail Packaging, Fire Engine Red (EVO-NK640-SA03)                                                    |4.625             |16                  |\n",
            "|Audiopure Bluetooth Headphones: Wireless Sport Earbuds with Bluetooth V4.1, Noise Cancelling, Mic , Sweatproof, 7 hrs Play for Running, Gym & Exercise with Bonuses (Black)                      |4.295336787564767 |193                 |\n",
            "|APP iPod Gen2/3 Touch Snap-on Case - 3                                                                                                                                                           |3.8227848101265822|79                  |\n",
            "|2 Pack Earbuds In Ear Headphones Wired Earphones with Mic for Apple iPhone/iPod/iPad/Samsung Galaxy/LG/HTC                                                                                       |5.0               |5                   |\n",
            "|Anker PowerCore 13000 Portable Charger - Compact 13000mAh 2-Port Ultra Portable Phone Charger Power Bank with PowerIQ and VoltageBoost Technology for iPhone, iPad, Samsung Galaxy               |4.852941176470588 |102                 |\n",
            "|Tip-top Huawei Ascend Mate 2 Leather Case, Luxury Crystal Bling Case Silk Folio Pu Leather Flip Ack Case Cover for Huawei Ascend Mate 2 Mate II 4G (Pink)                                        |1.0               |1                   |\n",
            "|Moonar 7 inch GPS Truck Navigation MTK 4GB Capacity US CA Maps Speedcam POI with Sunshade                                                                                                        |2.3333333333333335|3                   |\n",
            "|PLUS SIZE XL/XXL Large Oversize [Vertical Rugged ] Heavy Duty Nylon Canvas Case with Metal belt Clip Perfect Fits With Otterbox/ Lifeproof& Waterproof/Extended Battery For Huawei Ascend II M865|1.0               |1                   |\n",
            "|3.5mm Headset - iKross In-Ear 3.5mm Noise-Isolation Stereo Earbuds Headphones with Microphone                                                                                                    |3.77959927140255  |1098                |\n",
            "|BOYO A-PASS TOUCH Keyless Door Lock                                                                                                                                                              |3.2               |15                  |\n",
            "|Waterproof Case for Apple iPhone 5 - Also Works with iPhone 3, 3G, 3GS, 4, 4S and Other Smartphones - IPX8 Certified to 100 Feet                                                                 |3.5217391304347827|23                  |\n",
            "|Anker PowerLine Micro USB (1ft) - Durable Charging Cable, with Kevlar Fiber and 10000+ Bend Lifespan for Samsung, Nexus, LG, Motorola, Android Smartphones and More                              |5.0               |2                   |\n",
            "|MFI Cables                                                                                                                                                                                       |4.95              |20                  |\n",
            "|BLACK RUBBERIZED HARD SHELL CASE PROTEX COVER FOR LG REVERE-3 VN170 / ENVOY-3                                                                                                                    |4.529411764705882 |17                  |\n",
            "|iphone 6 Plus Wallet case, iphone 6 Plus Case with Card Holder, ZVE Wallet Casewith Credit Card Holder Slot for Apple iphone 6 / 6S Plus 5.5 inch                                                |4.359281437125748 |167                 |\n",
            "|iPhone 6S Case,iPhone 6 Case,Hundromi iphone 6/6S Luxury 3D Bling Crystal Rhinestone Wallet Leather Purse Flip Card Pouch Stand Cover Case for iPhone 6/6S(4.7-inch)(snow)                       |4.409090909090909 |22                  |\n",
            "|[6-Pack] Supershieldz- Anti-Glare & Anti-Fingerprint (Matte) Screen Protector Shield For Samsung Galaxy S5 + Lifetime Replacements Warranty [6-PACK] - Retail Packaging                          |4.139240506329114 |79                  |\n",
            "|For Galaxy Note 10.1\" Tablet N8000 LCD Flex Cable - All Repair Parts USA Seller                                                                                                                  |5.0               |1                   |\n",
            "|Acme Made Charge Cell Phone Case for iPhone                                                                                                                                                      |4.5               |2                   |\n",
            "|BlackBerry Leather Flip Shell for BlackBerry Q5 - White                                                                                                                                          |4.555555555555555 |9                   |\n",
            "+-------------------------------------------------------------------------------------------------------------------------------------------------------------------------------------------------+------------------+--------------------+\n",
            "only showing top 20 rows\n",
            "\n",
            "+----------------------------------------------------------------------------------------------------------------------------------------------------------------------------+------------------+--------------------+\n",
            "|product_title                                                                                                                                                               |avg(star_rating)  |count(product_title)|\n",
            "+----------------------------------------------------------------------------------------------------------------------------------------------------------------------------+------------------+--------------------+\n",
            "|Anker PowerCore+ mini 3350mAh Lipstick-Sized Portable Charger (3rd Generation, Premium Aluminum Power Bank) One of the Most Compact External Batteries, Uses Panasonic Cells|4.453478784803704 |15767               |\n",
            "|OtterBox Defender Series Case and Holster for iPhone 4/4S  - Blue/Navy                                                                                                      |4.1509525796134055|14382               |\n",
            "|PowerGen 2.4A Dual USB Travel Charger for Apple And Android                                                                                                                 |4.290078005394766 |13717               |\n",
            "|iOttie Easy One Touch XL Car Mount Holder for Samsung Galaxy S8, S8 Plus, iPhone 7, 7 +, & Most Smartphones                                                                 |4.475332068311196 |13702               |\n",
            "|LG Electronics Tone+ HBS-730 Bluetooth Headset                                                                                                                              |3.9931141714793426|13506               |\n",
            "|OtterBox Defender Series Case for iPhone 5                                                                                                                                  |4.29495710735188  |12473               |\n",
            "|Garmin Portable friction mount no installation required                                                                                                                     |4.753598157743236 |12159               |\n",
            "|PowerGen Dual USB Car Charger for Apple And Android                                                                                                                         |4.40639534883721  |12040               |\n",
            "|Zeimax Bluetooth stereo headset, Bluetooth 4.0 supports NFC Multipoint Pairing Voice Command Bluetooth EQ style                                                             |3.8231816048803378|10655               |\n",
            "|OtterBox Commuter Series Case for iPhone 4 & 4S                                                                                                                             |3.8861907548273846|10254               |\n",
            "|OtterBox Defender Series for Samsung Galaxy S III                                                                                                                           |4.078600405679513 |9860                |\n",
            "|AmazonBasics Apple Certified Lightning to USB Cable - 3 Feet (0.9 Meters) - Black                                                                                           |4.218835720816824 |9843                |\n",
            "|iPhone 4 / 4S Anti-Glare, Anti-Scratch, Anti-Fingerprint - Matte Finishing Screen Protector                                                                                 |3.6215880893300247|8866                |\n",
            "|Anker Astro E3 Ultra Compact 10000mAh Portable Charger (2nd Gerneration, Classic External Battery Power Bank) Slim with PowerIQ Technology                                  |4.6268796992481205|8512                |\n",
            "|iPhone 5 / 5S / 5C Screen Protectors - MPERO                                                                                                                                |4.172544378698225 |8450                |\n",
            "|Spigen Tough Armor iPhone SE / 5S / 5 Case with Extreme Heavy Duty Protection and Air Cushion Technology for iPhone SE / iPhone 5S / iPhone 5                               |4.610888321788796 |8229                |\n",
            "|LifeProof Case for iPhone 4/4S  - Blue/Black                                                                                                                                |3.191249207355739 |7885                |\n",
            "|Zeimax® 3 Pack of Universal Touch Screen Stylus Pen (Red + Black + Silver)                                                                                                  |3.461724313326551 |7864                |\n",
            "|Garmin nüvi 5-Inch Portable Vehicle GPS                                                                                                                                     |4.285240244226174 |7534                |\n",
            "|AmazonBasics Apple Certified Lightning to USB Cable - 6 Feet (1.8 Meters) - Black                                                                                           |4.149721448467966 |7180                |\n",
            "+----------------------------------------------------------------------------------------------------------------------------------------------------------------------------+------------------+--------------------+\n",
            "only showing top 20 rows\n",
            "\n"
          ],
          "name": "stdout"
        }
      ]
    },
    {
      "cell_type": "code",
      "metadata": {
        "id": "0afADD07C-o9"
      },
      "source": [
        "\r\n",
        "i"
      ],
      "execution_count": null,
      "outputs": []
    }
  ]
}